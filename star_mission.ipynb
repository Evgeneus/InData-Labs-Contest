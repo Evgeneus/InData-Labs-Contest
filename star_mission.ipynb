{
 "cells": [
  {
   "cell_type": "code",
   "execution_count": 405,
   "metadata": {
    "collapsed": false
   },
   "outputs": [],
   "source": [
    "from __future__ import division, unicode_literals\n",
    "\n",
    "import pandas as pd\n",
    "import numpy as np\n",
    "import math\n",
    "\n",
    "from sklearn.metrics import roc_auc_score\n",
    "from sklearn.cross_validation import train_test_split, StratifiedKFold\n",
    "from pandas.tools.plotting import scatter_matrix\n",
    "\n",
    "%matplotlib inline\n",
    "import matplotlib.pyplot as plt\n",
    "import matplotlib.mlab as mlab\n",
    "import pylab as pl\n",
    "from IPython.display import Image"
   ]
  },
  {
   "cell_type": "markdown",
   "metadata": {},
   "source": [
    "# Чтение данных"
   ]
  },
  {
   "cell_type": "code",
   "execution_count": 406,
   "metadata": {
    "collapsed": false
   },
   "outputs": [],
   "source": [
    "train = pd.read_csv('train.csv', encoding='utf-8', \n",
    "                    dialect='excel', lineterminator='\\n')\n",
    "\n",
    "assert(train.columns[-1] == 'retweet_count')\n",
    "\n",
    "# train_f = train[['user.statuses_count', 'user.followers_count', \n",
    "#                 'user.friends_count', 'user.listed_count', 'user.favourites_count']]\n",
    "train_f = train[['user.followers_count', \n",
    "                'user.friends_count', 'user.listed_count']]"
   ]
  },
  {
   "cell_type": "markdown",
   "metadata": {},
   "source": [
    "# Пре-процессинг данных"
   ]
  },
  {
   "cell_type": "markdown",
   "metadata": {},
   "source": [
    "Размеры данный"
   ]
  },
  {
   "cell_type": "code",
   "execution_count": 407,
   "metadata": {
    "collapsed": false
   },
   "outputs": [
    {
     "name": "stdout",
     "output_type": "stream",
     "text": [
      "(67211, 3)\n"
     ]
    }
   ],
   "source": [
    "print train_f.shape"
   ]
  },
  {
   "cell_type": "code",
   "execution_count": 408,
   "metadata": {
    "collapsed": false
   },
   "outputs": [
    {
     "data": {
      "text/html": [
       "<div>\n",
       "<table border=\"1\" class=\"dataframe\">\n",
       "  <thead>\n",
       "    <tr style=\"text-align: right;\">\n",
       "      <th></th>\n",
       "      <th>user.followers_count</th>\n",
       "      <th>user.friends_count</th>\n",
       "      <th>user.listed_count</th>\n",
       "    </tr>\n",
       "  </thead>\n",
       "  <tbody>\n",
       "    <tr>\n",
       "      <th>0</th>\n",
       "      <td>9164</td>\n",
       "      <td>205</td>\n",
       "      <td>27</td>\n",
       "    </tr>\n",
       "    <tr>\n",
       "      <th>1</th>\n",
       "      <td>7484</td>\n",
       "      <td>708</td>\n",
       "      <td>330</td>\n",
       "    </tr>\n",
       "    <tr>\n",
       "      <th>2</th>\n",
       "      <td>2050</td>\n",
       "      <td>491</td>\n",
       "      <td>70</td>\n",
       "    </tr>\n",
       "    <tr>\n",
       "      <th>3</th>\n",
       "      <td>919</td>\n",
       "      <td>309</td>\n",
       "      <td>38</td>\n",
       "    </tr>\n",
       "    <tr>\n",
       "      <th>4</th>\n",
       "      <td>85356</td>\n",
       "      <td>912</td>\n",
       "      <td>1232</td>\n",
       "    </tr>\n",
       "  </tbody>\n",
       "</table>\n",
       "</div>"
      ],
      "text/plain": [
       "   user.followers_count  user.friends_count  user.listed_count\n",
       "0                  9164                 205                 27\n",
       "1                  7484                 708                330\n",
       "2                  2050                 491                 70\n",
       "3                   919                 309                 38\n",
       "4                 85356                 912               1232"
      ]
     },
     "execution_count": 408,
     "metadata": {},
     "output_type": "execute_result"
    }
   ],
   "source": [
    "train_f.head()"
   ]
  },
  {
   "cell_type": "markdown",
   "metadata": {},
   "source": [
    "Характеристики данных"
   ]
  },
  {
   "cell_type": "code",
   "execution_count": 409,
   "metadata": {
    "collapsed": false
   },
   "outputs": [
    {
     "data": {
      "text/html": [
       "<div>\n",
       "<table border=\"1\" class=\"dataframe\">\n",
       "  <thead>\n",
       "    <tr style=\"text-align: right;\">\n",
       "      <th></th>\n",
       "      <th>user.followers_count</th>\n",
       "      <th>user.friends_count</th>\n",
       "      <th>user.listed_count</th>\n",
       "    </tr>\n",
       "  </thead>\n",
       "  <tbody>\n",
       "    <tr>\n",
       "      <th>count</th>\n",
       "      <td>6.721100e+04</td>\n",
       "      <td>6.721100e+04</td>\n",
       "      <td>67211.000000</td>\n",
       "    </tr>\n",
       "    <tr>\n",
       "      <th>mean</th>\n",
       "      <td>2.493563e+05</td>\n",
       "      <td>6.381893e+03</td>\n",
       "      <td>1829.584012</td>\n",
       "    </tr>\n",
       "    <tr>\n",
       "      <th>std</th>\n",
       "      <td>1.101774e+06</td>\n",
       "      <td>3.638143e+04</td>\n",
       "      <td>8257.238243</td>\n",
       "    </tr>\n",
       "    <tr>\n",
       "      <th>min</th>\n",
       "      <td>3.500000e+01</td>\n",
       "      <td>0.000000e+00</td>\n",
       "      <td>0.000000</td>\n",
       "    </tr>\n",
       "    <tr>\n",
       "      <th>25%</th>\n",
       "      <td>8.762000e+03</td>\n",
       "      <td>4.030000e+02</td>\n",
       "      <td>138.000000</td>\n",
       "    </tr>\n",
       "    <tr>\n",
       "      <th>50%</th>\n",
       "      <td>4.064900e+04</td>\n",
       "      <td>9.290000e+02</td>\n",
       "      <td>471.000000</td>\n",
       "    </tr>\n",
       "    <tr>\n",
       "      <th>75%</th>\n",
       "      <td>1.462430e+05</td>\n",
       "      <td>2.659000e+03</td>\n",
       "      <td>1332.000000</td>\n",
       "    </tr>\n",
       "    <tr>\n",
       "      <th>max</th>\n",
       "      <td>6.622713e+07</td>\n",
       "      <td>3.131983e+06</td>\n",
       "      <td>584387.000000</td>\n",
       "    </tr>\n",
       "  </tbody>\n",
       "</table>\n",
       "</div>"
      ],
      "text/plain": [
       "       user.followers_count  user.friends_count  user.listed_count\n",
       "count          6.721100e+04        6.721100e+04       67211.000000\n",
       "mean           2.493563e+05        6.381893e+03        1829.584012\n",
       "std            1.101774e+06        3.638143e+04        8257.238243\n",
       "min            3.500000e+01        0.000000e+00           0.000000\n",
       "25%            8.762000e+03        4.030000e+02         138.000000\n",
       "50%            4.064900e+04        9.290000e+02         471.000000\n",
       "75%            1.462430e+05        2.659000e+03        1332.000000\n",
       "max            6.622713e+07        3.131983e+06      584387.000000"
      ]
     },
     "execution_count": 409,
     "metadata": {},
     "output_type": "execute_result"
    }
   ],
   "source": [
    "train_f.describe()"
   ]
  },
  {
   "cell_type": "markdown",
   "metadata": {},
   "source": [
    "Построим корреляционную матрицу для оценивания наличия линейной зависимости между признаками. Можно заметить, что признауи не скореллированы, только 'user.listed_count' и 'user.followers_count' имеют коэффициетн = 0.846. Это следует учитывать при построении линейных классификаторов."
   ]
  },
  {
   "cell_type": "code",
   "execution_count": 410,
   "metadata": {
    "collapsed": false
   },
   "outputs": [
    {
     "data": {
      "text/html": [
       "<div>\n",
       "<table border=\"1\" class=\"dataframe\">\n",
       "  <thead>\n",
       "    <tr style=\"text-align: right;\">\n",
       "      <th></th>\n",
       "      <th>user.followers_count</th>\n",
       "      <th>user.friends_count</th>\n",
       "      <th>user.listed_count</th>\n",
       "    </tr>\n",
       "  </thead>\n",
       "  <tbody>\n",
       "    <tr>\n",
       "      <th>user.followers_count</th>\n",
       "      <td>1.000000</td>\n",
       "      <td>0.136822</td>\n",
       "      <td>0.845898</td>\n",
       "    </tr>\n",
       "    <tr>\n",
       "      <th>user.friends_count</th>\n",
       "      <td>0.136822</td>\n",
       "      <td>1.000000</td>\n",
       "      <td>0.099393</td>\n",
       "    </tr>\n",
       "    <tr>\n",
       "      <th>user.listed_count</th>\n",
       "      <td>0.845898</td>\n",
       "      <td>0.099393</td>\n",
       "      <td>1.000000</td>\n",
       "    </tr>\n",
       "  </tbody>\n",
       "</table>\n",
       "</div>"
      ],
      "text/plain": [
       "                      user.followers_count  user.friends_count  \\\n",
       "user.followers_count              1.000000            0.136822   \n",
       "user.friends_count                0.136822            1.000000   \n",
       "user.listed_count                 0.845898            0.099393   \n",
       "\n",
       "                      user.listed_count  \n",
       "user.followers_count           0.845898  \n",
       "user.friends_count             0.099393  \n",
       "user.listed_count              1.000000  "
      ]
     },
     "execution_count": 410,
     "metadata": {},
     "output_type": "execute_result"
    }
   ],
   "source": [
    "train_f.corr()"
   ]
  },
  {
   "cell_type": "markdown",
   "metadata": {},
   "source": [
    "Визуализация данных.\n",
    "Диапазон значений параметров довольно сильно отличается. Пэтому их необходимо преобразовать. Добавим +1 к каждому параметру и прологорифмируем эти значения."
   ]
  },
  {
   "cell_type": "code",
   "execution_count": 411,
   "metadata": {
    "collapsed": false
   },
   "outputs": [
    {
     "data": {
      "text/plain": [
       "array([[<matplotlib.axes._subplots.AxesSubplot object at 0x1297af210>,\n",
       "        <matplotlib.axes._subplots.AxesSubplot object at 0x120055850>],\n",
       "       [<matplotlib.axes._subplots.AxesSubplot object at 0x121bc17d0>,\n",
       "        <matplotlib.axes._subplots.AxesSubplot object at 0x121f16690>]], dtype=object)"
      ]
     },
     "execution_count": 411,
     "metadata": {},
     "output_type": "execute_result"
    },
    {
     "data": {
      "image/png": "[encoded data removed]",
      "text/plain": [
       "<matplotlib.figure.Figure at 0x1220bb250>"
      ]
     },
     "metadata": {},
     "output_type": "display_data"
    }
   ],
   "source": [
    "plt.style.use('ggplot')\n",
    "# init data\n",
    "# pd.DataFrame.hist(train_f, figsize = [18,10])\n",
    "train_log = train_f.applymap(lambda x : x + 1).applymap(math.log)\n",
    "# data ufter log operation\n",
    "pd.DataFrame.hist(train_log, figsize = [18,10])\n",
    "\n",
    "# train_log.corr()"
   ]
  },
  {
   "cell_type": "markdown",
   "metadata": {},
   "source": [
    "# Пример вычисления признаков"
   ]
  },
  {
   "cell_type": "code",
   "execution_count": 412,
   "metadata": {
    "collapsed": false
   },
   "outputs": [],
   "source": [
    "def df2features(df):\n",
    "    return np.array([\n",
    "#         df['user.statuses_count'],\n",
    "        df['user.followers_count'],\n",
    "        df['user.friends_count'],\n",
    "        df['user.listed_count'],\n",
    "#         df['user.favourites_count'],\n",
    "    ]).transpose()\n",
    "\n",
    "train_x = df2features(train_log)\n",
    "train_y = train['retweet_count'] > 20"
   ]
  },
  {
   "cell_type": "markdown",
   "metadata": {},
   "source": [
    "# Построение модели"
   ]
  },
  {
   "cell_type": "markdown",
   "metadata": {},
   "source": [
    "Пример вычисления площади под ROC-кривой на обучающей выборке."
   ]
  },
  {
   "cell_type": "code",
   "execution_count": 413,
   "metadata": {
    "collapsed": false
   },
   "outputs": [],
   "source": [
    "from sklearn.tree import DecisionTreeClassifier\n",
    "from sklearn.linear_model import LogisticRegression\n",
    "from sklearn.neighbors import KNeighborsClassifier\n",
    "from sklearn.ensemble import RandomForestClassifier\n",
    "from sklearn.grid_search import GridSearchCV\n",
    "from sklearn import cross_validation, svm\n",
    "\n",
    "from sklearn.metrics import roc_curve, auc"
   ]
  },
  {
   "cell_type": "code",
   "execution_count": 414,
   "metadata": {
    "collapsed": true
   },
   "outputs": [],
   "source": [
    "model_dtc = DecisionTreeClassifier()\n",
    "model_lr = LogisticRegression(penalty='l1', tol=0.01)\n",
    "model_rfc = RandomForestClassifier(n_estimators = 10)"
   ]
  },
  {
   "cell_type": "markdown",
   "metadata": {},
   "source": [
    "## KNN"
   ]
  },
  {
   "cell_type": "markdown",
   "metadata": {},
   "source": [
    "Поиск оптимального значения K для KNN"
   ]
  },
  {
   "cell_type": "code",
   "execution_count": 417,
   "metadata": {
    "collapsed": true
   },
   "outputs": [],
   "source": [
    "model_knc = KNeighborsClassifier(n_neighbors = 10)"
   ]
  },
  {
   "cell_type": "markdown",
   "metadata": {},
   "source": [
    "Определение оптимального параметра k при разном разбиении для CV"
   ]
  },
  {
   "cell_type": "code",
   "execution_count": 467,
   "metadata": {
    "collapsed": false
   },
   "outputs": [],
   "source": [
    "# define the parameter values that should be searched\n",
    "k_range = range(9, 37, 2)\n",
    "cv_range = range(5, 80, 5)\n",
    "param_grid = dict(n_neighbors=k_range)\n",
    "best_score_list = []\n",
    "best_params_list = []\n",
    "for cv in cv_range:\n",
    "    grid = GridSearchCV(model_knc, param_grid, cv=cv, scoring='roc_auc')\n",
    "    grid.fit(train_x, train_y)\n",
    "    scores_list = [round(result.mean_validation_score, 3) for result in grid.grid_scores_]\n",
    "    params_list = [result.parameters['n_neighbors'] for result in grid.grid_scores_]\n",
    "    best_score = max(scores_list)\n",
    "    best_score_list.append(best_score)\n",
    "    best_params_list.append(params_list[scores_list.index(best_score)])"
   ]
  },
  {
   "cell_type": "code",
   "execution_count": null,
   "metadata": {
    "collapsed": false
   },
   "outputs": [],
   "source": [
    "plt.plot(cv_range, best_score_list)\n",
    "plt.xlabel('CV param')\n",
    "plt.ylabel('Best AUC Score')\n",
    "plt.title('Tune Folds param')"
   ]
  },
  {
   "cell_type": "markdown",
   "metadata": {},
   "source": [
    "Анплизируя график, тестовую выборку можно поделить на сv = 55 частей(k optimum = 25). Этит мы выиграем в производительности, в сравнении с cv = 55 и практически не теряя точности. 3 параметра: 'user.followers_count', 'user.friends_count'. 'user.listed_count'"
   ]
  },
  {
   "cell_type": "code",
   "execution_count": 469,
   "metadata": {
    "collapsed": false,
    "scrolled": true
   },
   "outputs": [
    {
     "data": {
      "image/png": "[encoded data removed]",
      "text/plain": [
       "<IPython.core.display.Image object>"
      ]
     },
     "execution_count": 469,
     "metadata": {},
     "output_type": "execute_result"
    }
   ],
   "source": [
    "Image(filename='img/knn_3par.png')"
   ]
  },
  {
   "cell_type": "markdown",
   "metadata": {},
   "source": [
    "Прогноз с подобранными параметрами. В качестве получения тренировочных и проверочных выборок будем использовать StratifiedKFold, GridSearchCV также её испльзует"
   ]
  },
  {
   "cell_type": "code",
   "execution_count": 486,
   "metadata": {
    "collapsed": false
   },
   "outputs": [],
   "source": [
    "folds = 55\n",
    "model_knc = KNeighborsClassifier(n_neighbors = 25)\n",
    "skf = StratifiedKFold(train_y, n_folds=folds)\n",
    "auc_list = []\n",
    "\n",
    "for train_index, test_index in skf:\n",
    "    X_train, X_test = train_x[train_index], train_x[test_index]\n",
    "    y_train, y_test = train_y[train_index], train_y[test_index]\n",
    "    model_knc.fit(X_train, y_train)\n",
    "    proba = model_knc.predict_proba(X_test)\n",
    "    auc = roc_auc_score(y_test, proba[:,1])\n",
    "    auc_list.append(auc)\n"
   ]
  },
  {
   "cell_type": "code",
   "execution_count": 485,
   "metadata": {
    "collapsed": false
   },
   "outputs": [
    {
     "name": "stdout",
     "output_type": "stream",
     "text": [
      "AUC mean: 0.868066856968, AUC std: 0.0241453152241\n"
     ]
    }
   ],
   "source": [
    "print 'AUC mean: {}, AUC std: {}'.format(np.mean(auc_list), np.std(auc_list))"
   ]
  },
  {
   "cell_type": "markdown",
   "metadata": {},
   "source": [
    "Лучише результаты с 3 параметрами:\n",
    "AUC mean: 0.868066856968, AUC std: 0.0241453152241"
   ]
  },
  {
   "cell_type": "markdown",
   "metadata": {},
   "source": [
    "## LogisticRegression"
   ]
  },
  {
   "cell_type": "code",
   "execution_count": null,
   "metadata": {
    "collapsed": false
   },
   "outputs": [],
   "source": [
    "from sklearn.feature_selection import RFE\n",
    "# create the RFE model and select 3 attributes\n",
    "rfe = RFE(model_lr, 3)\n",
    "rfe = rfe.fit(train_x, train_y)\n",
    "# summarize the selection of the attributes\n",
    "print(rfe.support_)\n",
    "print(rfe.ranking_)"
   ]
  },
  {
   "cell_type": "markdown",
   "metadata": {},
   "source": [
    "Кросс-валидация"
   ]
  },
  {
   "cell_type": "code",
   "execution_count": null,
   "metadata": {
    "collapsed": false
   },
   "outputs": [],
   "source": [
    "train_x_ROC, test_x_ROC, train_y_ROC, test_y_ROC = cross_validation.train_test_split(train_x, train_y, test_size=0.2)"
   ]
  },
  {
   "cell_type": "code",
   "execution_count": null,
   "metadata": {
    "collapsed": false
   },
   "outputs": [],
   "source": [
    "kfold = 5 #количество подвыборок для валидации\n",
    "acc_val = {}\n",
    "scores = cross_validation.cross_val_score(model_dtc, train_x, train_y, cv = kfold, scoring='accuracy')\n",
    "acc_val['DecisionTreeClassifier'] = scores.mean()\n",
    "scores = cross_validation.cross_val_score(model_lr, train_x, train_y, cv = kfold, scoring='accuracy')\n",
    "acc_val['LogisticRegression'] = scores.mean()\n",
    "scores = cross_validation.cross_val_score(model_rfc, train_x, train_y, cv = kfold, scoring='accuracy')\n",
    "acc_val['RandomForestClassifier'] = scores.mean()\n",
    "scores = cross_validation.cross_val_score(model_knc, train_x, train_y, cv = kfold, scoring='accuracy')\n",
    "acc_val['KNeighborsClassifier'] = scores.mean()\n"
   ]
  },
  {
   "cell_type": "code",
   "execution_count": null,
   "metadata": {
    "collapsed": false
   },
   "outputs": [],
   "source": [
    "plt.bar(range(len(acc_val)), acc_val.values(), align='center')\n",
    "plt.xticks(range(len(acc_val)), acc_val.keys(), rotation='vertical')\n",
    "pl.ylabel('Accuracy')\n",
    "plt.show()"
   ]
  },
  {
   "cell_type": "code",
   "execution_count": null,
   "metadata": {
    "collapsed": true
   },
   "outputs": [],
   "source": []
  },
  {
   "cell_type": "markdown",
   "metadata": {},
   "source": [
    "Визуализация ROC-кривой"
   ]
  },
  {
   "cell_type": "code",
   "execution_count": null,
   "metadata": {
    "collapsed": false
   },
   "outputs": [],
   "source": [
    "pl.clf()\n",
    "plt.figure(figsize=(8,6))\n",
    "#DecisionTreeClassifier\n",
    "probas = model_dtc.fit(train_x_ROC, train_y_ROC).predict_proba(test_x_ROC)\n",
    "fpr, tpr, thresholds = roc_curve(test_y_ROC, probas[:, 1])\n",
    "roc_auc  = auc(fpr, tpr)\n",
    "pl.plot(fpr, tpr, label='%s ROC (area = %0.2f)' % ('DecisionTreeClassifier',roc_auc))\n",
    "#LogisticRegression\n",
    "probas = model_lr.fit(train_x_ROC, train_y_ROC).predict_proba(test_x_ROC)\n",
    "fpr, tpr, thresholds = roc_curve(test_y_ROC, probas[:, 1])\n",
    "roc_auc  = auc(fpr, tpr)\n",
    "pl.plot(fpr, tpr, label='%s ROC (area = %0.2f)' % ('LogisticRegression',roc_auc))\n",
    "#RandomForestClassifier\n",
    "probas = model_rfc.fit(train_x_ROC, train_y_ROC).predict_proba(test_x_ROC)\n",
    "fpr, tpr, thresholds = roc_curve(test_y_ROC, probas[:, 1])\n",
    "roc_auc  = auc(fpr, tpr)\n",
    "pl.plot(fpr, tpr, label='%s ROC (area = %0.2f)' % ('RandomForestClassifier',roc_auc))\n",
    "#KNeighborsClassifier\n",
    "probas = model_knc.fit(train_x_ROC, train_y_ROC).predict_proba(test_x_ROC)\n",
    "fpr, tpr, thresholds = roc_curve(test_y_ROC, probas[:, 1])\n",
    "roc_auc  = auc(fpr, tpr)\n",
    "pl.plot(fpr, tpr, label='%s ROC (area = %0.2f)' % ('KNeighborsClassifier',roc_auc))\n",
    "\n",
    "pl.plot([0, 1], [0, 1], 'k--')\n",
    "pl.xlim([0.0, 1.0])\n",
    "pl.ylim([0.0, 1.0])\n",
    "pl.xlabel('False Positive Rate')\n",
    "pl.ylabel('True Positive Rate')\n",
    "pl.legend(loc=0, fontsize='small')\n",
    "pl.show()"
   ]
  },
  {
   "cell_type": "markdown",
   "metadata": {
    "collapsed": true
   },
   "source": [
    "# Построение и запись финального прогноза"
   ]
  },
  {
   "cell_type": "markdown",
   "metadata": {},
   "source": [
    "Строим новый прогноз и обновляем вероятности того, что ретвитов больше 20."
   ]
  },
  {
   "cell_type": "code",
   "execution_count": null,
   "metadata": {
    "collapsed": true
   },
   "outputs": [],
   "source": [
    "proba = est.predict_proba(test_X)\n",
    "prediction['probability'] = proba[:,1]"
   ]
  },
  {
   "cell_type": "markdown",
   "metadata": {},
   "source": [
    "Записываем полученный результат в файл prediction.csv."
   ]
  },
  {
   "cell_type": "code",
   "execution_count": null,
   "metadata": {
    "collapsed": true
   },
   "outputs": [],
   "source": [
    "# prediction.to_csv('prediction.csv', index=False)"
   ]
  }
 ],
 "metadata": {
  "kernelspec": {
   "display_name": "Python 2",
   "language": "python",
   "name": "python2"
  },
  "language_info": {
   "codemirror_mode": {
    "name": "ipython",
    "version": 2
   },
   "file_extension": ".py",
   "mimetype": "text/x-python",
   "name": "python",
   "nbconvert_exporter": "python",
   "pygments_lexer": "ipython2",
   "version": "2.7.10"
  }
 },
 "nbformat": 4,
 "nbformat_minor": 0
}
